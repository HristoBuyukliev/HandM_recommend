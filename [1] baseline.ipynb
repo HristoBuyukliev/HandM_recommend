{
 "cells": [
  {
   "cell_type": "code",
   "execution_count": 3,
   "id": "421f8663",
   "metadata": {},
   "outputs": [
    {
     "name": "stderr",
     "output_type": "stream",
     "text": [
      "/usr/local/lib/python3.8/dist-packages/tqdm/auto.py:22: TqdmWarning: IProgress not found. Please update jupyter and ipywidgets. See https://ipywidgets.readthedocs.io/en/stable/user_install.html\n",
      "  from .autonotebook import tqdm as notebook_tqdm\n"
     ]
    }
   ],
   "source": [
    "import matplotlib.pyplot as plt\n",
    "import pandas as pd\n",
    "from tqdm.notebook import tqdm\n",
    "from typing import Tuple, Dict\n",
    "import numpy as np\n",
    "\n",
    "import torch\n",
    "import torch.nn as nn\n",
    "from torch.utils.data import Dataset, DataLoader\n",
    "from torch.utils.tensorboard import SummaryWriter\n",
    "from random import randint\n",
    "\n",
    "from tqdm import tqdm_notebook\n",
    "from einops import rearrange\n",
    "import faiss\n",
    "from metrics import apk"
   ]
  },
  {
   "cell_type": "code",
   "execution_count": 2,
   "id": "3cf88fd6",
   "metadata": {},
   "outputs": [
    {
     "name": "stdout",
     "output_type": "stream",
     "text": [
      "articles.csv  customers.csv  sample_submission.csv  transactions_train.csv\r\n"
     ]
    }
   ],
   "source": [
    "%ls data"
   ]
  },
  {
   "cell_type": "code",
   "execution_count": 3,
   "id": "2609eeab",
   "metadata": {},
   "outputs": [
    {
     "data": {
      "text/html": [
       "<div>\n",
       "<style scoped>\n",
       "    .dataframe tbody tr th:only-of-type {\n",
       "        vertical-align: middle;\n",
       "    }\n",
       "\n",
       "    .dataframe tbody tr th {\n",
       "        vertical-align: top;\n",
       "    }\n",
       "\n",
       "    .dataframe thead th {\n",
       "        text-align: right;\n",
       "    }\n",
       "</style>\n",
       "<table border=\"1\" class=\"dataframe\">\n",
       "  <thead>\n",
       "    <tr style=\"text-align: right;\">\n",
       "      <th></th>\n",
       "      <th>t_dat</th>\n",
       "      <th>customer_id</th>\n",
       "      <th>article_id</th>\n",
       "      <th>price</th>\n",
       "      <th>sales_channel_id</th>\n",
       "    </tr>\n",
       "  </thead>\n",
       "  <tbody>\n",
       "    <tr>\n",
       "      <th>0</th>\n",
       "      <td>2018-09-20</td>\n",
       "      <td>000058a12d5b43e67d225668fa1f8d618c13dc232df0ca...</td>\n",
       "      <td>0663713001</td>\n",
       "      <td>0.050831</td>\n",
       "      <td>2</td>\n",
       "    </tr>\n",
       "    <tr>\n",
       "      <th>1</th>\n",
       "      <td>2018-09-20</td>\n",
       "      <td>000058a12d5b43e67d225668fa1f8d618c13dc232df0ca...</td>\n",
       "      <td>0541518023</td>\n",
       "      <td>0.030492</td>\n",
       "      <td>2</td>\n",
       "    </tr>\n",
       "    <tr>\n",
       "      <th>2</th>\n",
       "      <td>2018-09-20</td>\n",
       "      <td>00007d2de826758b65a93dd24ce629ed66842531df6699...</td>\n",
       "      <td>0505221004</td>\n",
       "      <td>0.015237</td>\n",
       "      <td>2</td>\n",
       "    </tr>\n",
       "    <tr>\n",
       "      <th>3</th>\n",
       "      <td>2018-09-20</td>\n",
       "      <td>00007d2de826758b65a93dd24ce629ed66842531df6699...</td>\n",
       "      <td>0685687003</td>\n",
       "      <td>0.016932</td>\n",
       "      <td>2</td>\n",
       "    </tr>\n",
       "    <tr>\n",
       "      <th>4</th>\n",
       "      <td>2018-09-20</td>\n",
       "      <td>00007d2de826758b65a93dd24ce629ed66842531df6699...</td>\n",
       "      <td>0685687004</td>\n",
       "      <td>0.016932</td>\n",
       "      <td>2</td>\n",
       "    </tr>\n",
       "  </tbody>\n",
       "</table>\n",
       "</div>"
      ],
      "text/plain": [
       "        t_dat                                        customer_id  article_id  \\\n",
       "0  2018-09-20  000058a12d5b43e67d225668fa1f8d618c13dc232df0ca...  0663713001   \n",
       "1  2018-09-20  000058a12d5b43e67d225668fa1f8d618c13dc232df0ca...  0541518023   \n",
       "2  2018-09-20  00007d2de826758b65a93dd24ce629ed66842531df6699...  0505221004   \n",
       "3  2018-09-20  00007d2de826758b65a93dd24ce629ed66842531df6699...  0685687003   \n",
       "4  2018-09-20  00007d2de826758b65a93dd24ce629ed66842531df6699...  0685687004   \n",
       "\n",
       "      price  sales_channel_id  \n",
       "0  0.050831                 2  \n",
       "1  0.030492                 2  \n",
       "2  0.015237                 2  \n",
       "3  0.016932                 2  \n",
       "4  0.016932                 2  "
      ]
     },
     "execution_count": 3,
     "metadata": {},
     "output_type": "execute_result"
    }
   ],
   "source": [
    "transactions = pd.read_csv('data/transactions_train.csv', dtype={'article_id': str})\n",
    "transactions.head()"
   ]
  },
  {
   "cell_type": "markdown",
   "id": "a2cb41c3",
   "metadata": {},
   "source": [
    "## 1. Embeddings of each article:"
   ]
  },
  {
   "cell_type": "code",
   "execution_count": 171,
   "id": "4acca45c",
   "metadata": {},
   "outputs": [
    {
     "data": {
      "text/html": [
       "<div>\n",
       "<style scoped>\n",
       "    .dataframe tbody tr th:only-of-type {\n",
       "        vertical-align: middle;\n",
       "    }\n",
       "\n",
       "    .dataframe tbody tr th {\n",
       "        vertical-align: top;\n",
       "    }\n",
       "\n",
       "    .dataframe thead th {\n",
       "        text-align: right;\n",
       "    }\n",
       "</style>\n",
       "<table border=\"1\" class=\"dataframe\">\n",
       "  <thead>\n",
       "    <tr style=\"text-align: right;\">\n",
       "      <th></th>\n",
       "      <th>article_id</th>\n",
       "      <th>product_code</th>\n",
       "      <th>prod_name</th>\n",
       "      <th>product_type_no</th>\n",
       "      <th>product_type_name</th>\n",
       "      <th>product_group_name</th>\n",
       "      <th>graphical_appearance_no</th>\n",
       "      <th>graphical_appearance_name</th>\n",
       "      <th>colour_group_code</th>\n",
       "      <th>colour_group_name</th>\n",
       "      <th>...</th>\n",
       "      <th>department_name</th>\n",
       "      <th>index_code</th>\n",
       "      <th>index_name</th>\n",
       "      <th>index_group_no</th>\n",
       "      <th>index_group_name</th>\n",
       "      <th>section_no</th>\n",
       "      <th>section_name</th>\n",
       "      <th>garment_group_no</th>\n",
       "      <th>garment_group_name</th>\n",
       "      <th>detail_desc</th>\n",
       "    </tr>\n",
       "    <tr>\n",
       "      <th>article_id</th>\n",
       "      <th></th>\n",
       "      <th></th>\n",
       "      <th></th>\n",
       "      <th></th>\n",
       "      <th></th>\n",
       "      <th></th>\n",
       "      <th></th>\n",
       "      <th></th>\n",
       "      <th></th>\n",
       "      <th></th>\n",
       "      <th></th>\n",
       "      <th></th>\n",
       "      <th></th>\n",
       "      <th></th>\n",
       "      <th></th>\n",
       "      <th></th>\n",
       "      <th></th>\n",
       "      <th></th>\n",
       "      <th></th>\n",
       "      <th></th>\n",
       "      <th></th>\n",
       "    </tr>\n",
       "  </thead>\n",
       "  <tbody>\n",
       "    <tr>\n",
       "      <th>108775015</th>\n",
       "      <td>108775015</td>\n",
       "      <td>108775</td>\n",
       "      <td>Strap top</td>\n",
       "      <td>253</td>\n",
       "      <td>Vest top</td>\n",
       "      <td>Garment Upper body</td>\n",
       "      <td>1010016</td>\n",
       "      <td>Solid</td>\n",
       "      <td>9</td>\n",
       "      <td>Black</td>\n",
       "      <td>...</td>\n",
       "      <td>Jersey Basic</td>\n",
       "      <td>A</td>\n",
       "      <td>Ladieswear</td>\n",
       "      <td>1</td>\n",
       "      <td>Ladieswear</td>\n",
       "      <td>16</td>\n",
       "      <td>Womens Everyday Basics</td>\n",
       "      <td>1002</td>\n",
       "      <td>Jersey Basic</td>\n",
       "      <td>Jersey top with narrow shoulder straps.</td>\n",
       "    </tr>\n",
       "    <tr>\n",
       "      <th>108775044</th>\n",
       "      <td>108775044</td>\n",
       "      <td>108775</td>\n",
       "      <td>Strap top</td>\n",
       "      <td>253</td>\n",
       "      <td>Vest top</td>\n",
       "      <td>Garment Upper body</td>\n",
       "      <td>1010016</td>\n",
       "      <td>Solid</td>\n",
       "      <td>10</td>\n",
       "      <td>White</td>\n",
       "      <td>...</td>\n",
       "      <td>Jersey Basic</td>\n",
       "      <td>A</td>\n",
       "      <td>Ladieswear</td>\n",
       "      <td>1</td>\n",
       "      <td>Ladieswear</td>\n",
       "      <td>16</td>\n",
       "      <td>Womens Everyday Basics</td>\n",
       "      <td>1002</td>\n",
       "      <td>Jersey Basic</td>\n",
       "      <td>Jersey top with narrow shoulder straps.</td>\n",
       "    </tr>\n",
       "    <tr>\n",
       "      <th>108775051</th>\n",
       "      <td>108775051</td>\n",
       "      <td>108775</td>\n",
       "      <td>Strap top (1)</td>\n",
       "      <td>253</td>\n",
       "      <td>Vest top</td>\n",
       "      <td>Garment Upper body</td>\n",
       "      <td>1010017</td>\n",
       "      <td>Stripe</td>\n",
       "      <td>11</td>\n",
       "      <td>Off White</td>\n",
       "      <td>...</td>\n",
       "      <td>Jersey Basic</td>\n",
       "      <td>A</td>\n",
       "      <td>Ladieswear</td>\n",
       "      <td>1</td>\n",
       "      <td>Ladieswear</td>\n",
       "      <td>16</td>\n",
       "      <td>Womens Everyday Basics</td>\n",
       "      <td>1002</td>\n",
       "      <td>Jersey Basic</td>\n",
       "      <td>Jersey top with narrow shoulder straps.</td>\n",
       "    </tr>\n",
       "    <tr>\n",
       "      <th>110065001</th>\n",
       "      <td>110065001</td>\n",
       "      <td>110065</td>\n",
       "      <td>OP T-shirt (Idro)</td>\n",
       "      <td>306</td>\n",
       "      <td>Bra</td>\n",
       "      <td>Underwear</td>\n",
       "      <td>1010016</td>\n",
       "      <td>Solid</td>\n",
       "      <td>9</td>\n",
       "      <td>Black</td>\n",
       "      <td>...</td>\n",
       "      <td>Clean Lingerie</td>\n",
       "      <td>B</td>\n",
       "      <td>Lingeries/Tights</td>\n",
       "      <td>1</td>\n",
       "      <td>Ladieswear</td>\n",
       "      <td>61</td>\n",
       "      <td>Womens Lingerie</td>\n",
       "      <td>1017</td>\n",
       "      <td>Under-, Nightwear</td>\n",
       "      <td>Microfibre T-shirt bra with underwired, moulde...</td>\n",
       "    </tr>\n",
       "    <tr>\n",
       "      <th>110065002</th>\n",
       "      <td>110065002</td>\n",
       "      <td>110065</td>\n",
       "      <td>OP T-shirt (Idro)</td>\n",
       "      <td>306</td>\n",
       "      <td>Bra</td>\n",
       "      <td>Underwear</td>\n",
       "      <td>1010016</td>\n",
       "      <td>Solid</td>\n",
       "      <td>10</td>\n",
       "      <td>White</td>\n",
       "      <td>...</td>\n",
       "      <td>Clean Lingerie</td>\n",
       "      <td>B</td>\n",
       "      <td>Lingeries/Tights</td>\n",
       "      <td>1</td>\n",
       "      <td>Ladieswear</td>\n",
       "      <td>61</td>\n",
       "      <td>Womens Lingerie</td>\n",
       "      <td>1017</td>\n",
       "      <td>Under-, Nightwear</td>\n",
       "      <td>Microfibre T-shirt bra with underwired, moulde...</td>\n",
       "    </tr>\n",
       "  </tbody>\n",
       "</table>\n",
       "<p>5 rows × 25 columns</p>\n",
       "</div>"
      ],
      "text/plain": [
       "            article_id  product_code          prod_name  product_type_no  \\\n",
       "article_id                                                                 \n",
       "108775015    108775015        108775          Strap top              253   \n",
       "108775044    108775044        108775          Strap top              253   \n",
       "108775051    108775051        108775      Strap top (1)              253   \n",
       "110065001    110065001        110065  OP T-shirt (Idro)              306   \n",
       "110065002    110065002        110065  OP T-shirt (Idro)              306   \n",
       "\n",
       "           product_type_name  product_group_name  graphical_appearance_no  \\\n",
       "article_id                                                                  \n",
       "108775015           Vest top  Garment Upper body                  1010016   \n",
       "108775044           Vest top  Garment Upper body                  1010016   \n",
       "108775051           Vest top  Garment Upper body                  1010017   \n",
       "110065001                Bra           Underwear                  1010016   \n",
       "110065002                Bra           Underwear                  1010016   \n",
       "\n",
       "           graphical_appearance_name  colour_group_code colour_group_name  \\\n",
       "article_id                                                                  \n",
       "108775015                      Solid                  9             Black   \n",
       "108775044                      Solid                 10             White   \n",
       "108775051                     Stripe                 11         Off White   \n",
       "110065001                      Solid                  9             Black   \n",
       "110065002                      Solid                 10             White   \n",
       "\n",
       "            ...  department_name index_code        index_name index_group_no  \\\n",
       "article_id  ...                                                                \n",
       "108775015   ...     Jersey Basic          A        Ladieswear              1   \n",
       "108775044   ...     Jersey Basic          A        Ladieswear              1   \n",
       "108775051   ...     Jersey Basic          A        Ladieswear              1   \n",
       "110065001   ...   Clean Lingerie          B  Lingeries/Tights              1   \n",
       "110065002   ...   Clean Lingerie          B  Lingeries/Tights              1   \n",
       "\n",
       "            index_group_name section_no            section_name  \\\n",
       "article_id                                                        \n",
       "108775015         Ladieswear         16  Womens Everyday Basics   \n",
       "108775044         Ladieswear         16  Womens Everyday Basics   \n",
       "108775051         Ladieswear         16  Womens Everyday Basics   \n",
       "110065001         Ladieswear         61         Womens Lingerie   \n",
       "110065002         Ladieswear         61         Womens Lingerie   \n",
       "\n",
       "           garment_group_no  garment_group_name  \\\n",
       "article_id                                        \n",
       "108775015              1002        Jersey Basic   \n",
       "108775044              1002        Jersey Basic   \n",
       "108775051              1002        Jersey Basic   \n",
       "110065001              1017   Under-, Nightwear   \n",
       "110065002              1017   Under-, Nightwear   \n",
       "\n",
       "                                                  detail_desc  \n",
       "article_id                                                     \n",
       "108775015             Jersey top with narrow shoulder straps.  \n",
       "108775044             Jersey top with narrow shoulder straps.  \n",
       "108775051             Jersey top with narrow shoulder straps.  \n",
       "110065001   Microfibre T-shirt bra with underwired, moulde...  \n",
       "110065002   Microfibre T-shirt bra with underwired, moulde...  \n",
       "\n",
       "[5 rows x 25 columns]"
      ]
     },
     "execution_count": 171,
     "metadata": {},
     "output_type": "execute_result"
    }
   ],
   "source": [
    "articles = pd.read_csv('data/articles.csv')\n",
    "articles.set_index('article_id', inplace=True, drop=False)\n",
    "articles.head()"
   ]
  },
  {
   "cell_type": "code",
   "execution_count": 172,
   "id": "9da18156",
   "metadata": {},
   "outputs": [],
   "source": [
    "def reduce_unique_values(dataframe: pd.DataFrame, col_max_counts: Dict) -> Dict:\n",
    "    '''\n",
    "    Takes as input a dataframe, with some columns we'd like embeddings of,\n",
    "    and maximum unique values per column.\n",
    "    \n",
    "    Changes the dataframe inplace, so that only the top n values for each column remain,\n",
    "    and returns the mappings string -> idx for each column. \n",
    "    '''\n",
    "    \n",
    "    mappings = {}\n",
    "    for col in col_max_counts:\n",
    "        top_n = dataframe[col].value_counts().head(col_max_counts[col]-1).index.to_list() # minus one, to leave room for \"other\"\n",
    "        # change all other values to \"other\"\n",
    "        if dataframe[col].nunique() > col_max_counts[col]:\n",
    "            dataframe.loc[~dataframe[col].isin(top_n), col] = 'other'\n",
    "            top_n.append('other')\n",
    "        mappings[col] = {top_n_attr: idx for (top_n_attr, idx) in zip(top_n, range(len(top_n)))}\n",
    "    return mappings"
   ]
  },
  {
   "cell_type": "code",
   "execution_count": 173,
   "id": "3e04149e",
   "metadata": {},
   "outputs": [
    {
     "data": {
      "text/plain": [
       "{'Dark': 0,\n",
       " 'Dusty Light': 1,\n",
       " 'Light': 2,\n",
       " 'Medium Dusty': 3,\n",
       " 'Bright': 4,\n",
       " 'Medium': 5,\n",
       " 'Undefined': 6,\n",
       " 'Unknown': 7}"
      ]
     },
     "execution_count": 173,
     "metadata": {},
     "output_type": "execute_result"
    }
   ],
   "source": [
    "# I want to create embeddings of all these; \n",
    "# but first I need to select only those top N values, which have a meaningful number of occurences\n",
    "\n",
    "select_top_n = {\n",
    "    'prod_name': 500,\n",
    "    'product_type_name': 500,\n",
    "    'product_group_name': 100,    \n",
    "    'graphical_appearance_name': 100,\n",
    "    'colour_group_name': 100, \n",
    "    'perceived_colour_value_name': 100,\n",
    "    'perceived_colour_master_name': 100,\n",
    "    'department_name': 230,\n",
    "    'index_name': 100,\n",
    "    'garment_group_name': 100,\n",
    "    'section_name': 100,\n",
    "    'garment_group_name': 100\n",
    "}\n",
    "\n",
    "mappings_articles = reduce_unique_values(articles, select_top_n)\n",
    "mappings_articles['perceived_colour_value_name']"
   ]
  },
  {
   "cell_type": "code",
   "execution_count": 174,
   "id": "db3b6190",
   "metadata": {},
   "outputs": [],
   "source": [
    "class GroupEmbedding(nn.Module):\n",
    "    '''\n",
    "    Given something with a lot of thing we want embeddings of - \n",
    "    for example, articles of clothing, or customers,\n",
    "    and mappings string->index, creates torch.nn.Embedding layers,\n",
    "    and concatenates their outputs\n",
    "    '''\n",
    "    \n",
    "    def __init__(self, mappings: Dict):\n",
    "        super().__init__()\n",
    "        self.mappings = mappings\n",
    "        self.embeddings = {}\n",
    "        for col in mappings:\n",
    "            embedding_dim = 10\n",
    "            self.embeddings[col] = nn.Embedding(num_embeddings = len(mappings[col]), embedding_dim=10)\n",
    "            for param in self.embeddings[col].parameters():\n",
    "                self.register_parameter(name=f'embedding_{col}', \n",
    "                                        param=param)\n",
    "        \n",
    "    def forward(self, dataframe: pd.DataFrame) -> torch.Tensor:\n",
    "        embedded_columns = []\n",
    "        for col in self.mappings:\n",
    "            strings = dataframe[col]\n",
    "            indexes = torch.tensor([self.mappings[col][item] for item in strings], dtype=torch.long)\n",
    "            embedded_columns.append(self.embeddings[col](indexes))\n",
    "            \n",
    "        return torch.cat(embedded_columns, axis=1)"
   ]
  },
  {
   "cell_type": "code",
   "execution_count": 175,
   "id": "4bad4cf1",
   "metadata": {},
   "outputs": [
    {
     "data": {
      "text/plain": [
       "tensor([[ 0.4207, -0.9936,  0.2123,  ..., -0.9900,  1.6430, -1.2487],\n",
       "        [ 0.4207, -0.9936,  0.2123,  ...,  0.0239,  0.1084,  0.0634],\n",
       "        [ 0.4207, -0.9936,  0.2123,  ...,  1.4412, -1.0926,  1.3601],\n",
       "        ...,\n",
       "        [ 0.4207, -0.9936,  0.2123,  ...,  0.9818, -1.5221,  1.1575],\n",
       "        [ 0.4207, -0.9936,  0.2123,  ..., -0.0825, -0.5578,  0.4116],\n",
       "        [ 0.4207, -0.9936,  0.2123,  ..., -0.1279,  0.6329, -1.1696]],\n",
       "       grad_fn=<CatBackward0>)"
      ]
     },
     "execution_count": 175,
     "metadata": {},
     "output_type": "execute_result"
    }
   ],
   "source": [
    "article_embedder = GroupEmbedding(mappings_articles)\n",
    "article_embedder(articles.sample(100))"
   ]
  },
  {
   "cell_type": "markdown",
   "id": "96afc149",
   "metadata": {},
   "source": [
    "## 2. Embeddings of each customer"
   ]
  },
  {
   "cell_type": "code",
   "execution_count": 176,
   "id": "88c90845",
   "metadata": {},
   "outputs": [],
   "source": [
    "customers = pd.read_csv('data/customers.csv')\n",
    "customers.age.fillna(32, inplace=True) # median age\n",
    "customers.set_index('customer_id', inplace=True, drop=False)"
   ]
  },
  {
   "cell_type": "code",
   "execution_count": 177,
   "id": "f9d0ea2e",
   "metadata": {},
   "outputs": [],
   "source": [
    "select_top_n = {\n",
    "    'customer_id': 100_000_000, # separate embedding for each customer. \n",
    "    'age': 100, # all ages are embedded, unless we have really old people. \n",
    "    'postal_code': 50_000 # 5 or 6 users for the smallest codes remaining. \n",
    "}\n",
    "\n",
    "mappings_customers = reduce_unique_values(customers, select_top_n)"
   ]
  },
  {
   "cell_type": "code",
   "execution_count": 178,
   "id": "957c041f",
   "metadata": {},
   "outputs": [
    {
     "data": {
      "text/plain": [
       "torch.Size([10000, 30])"
      ]
     },
     "execution_count": 178,
     "metadata": {},
     "output_type": "execute_result"
    }
   ],
   "source": [
    "customer_embedder = GroupEmbedding(mappings_customers)\n",
    "customer_embedder(customers.sample(10_000)).shape"
   ]
  },
  {
   "cell_type": "markdown",
   "id": "9c503f19",
   "metadata": {},
   "source": [
    "## 3. Data Loader"
   ]
  },
  {
   "cell_type": "code",
   "execution_count": 100,
   "id": "9e481861",
   "metadata": {},
   "outputs": [],
   "source": [
    "transactions = pd.read_csv('data/transactions_train.csv')\n",
    "\n",
    "## select a period of 3 months for train, and a week for val\n",
    "train = transactions[transactions.t_dat.between('2020-06-15', '2020-09-14')]\n",
    "val = transactions[transactions.t_dat.between('2020-09-15', '2020-09-22')]"
   ]
  },
  {
   "cell_type": "code",
   "execution_count": 99,
   "id": "56587dfe",
   "metadata": {},
   "outputs": [],
   "source": [
    "class TransactionDataLoader():\n",
    "    def __init__(self, \n",
    "                 customers: pd.DataFrame, \n",
    "                 articles: pd.DataFrame, \n",
    "                 txns: pd.DataFrame, \n",
    "                 negative_samples: int = 10):\n",
    "        self.customers = customers\n",
    "        self.articles = articles\n",
    "        self.txns = txns\n",
    "#         self.current_idx = 0 \n",
    "        self.negative_samples = negative_samples # per one positive sample\n",
    "    \n",
    "    def __len__(self):\n",
    "        return len(self.txns)\n",
    "    \n",
    "    def get_batch(self, batch_size: int = 1000):\n",
    "        batch_index_start = randint(0, len(self) - batch_size)\n",
    "        # for speed purposes, do not sample randomly, but give data iteratively\n",
    "        batch_txns = self.txns.iloc[batch_index_start:batch_index_start + batch_size]\n",
    "        batch_customers = self.customers.loc[batch_txns.customer_id]\n",
    "        positive_articles = self.articles.loc[batch_txns.article_id]\n",
    "\n",
    "        # now, negative sampling:\n",
    "        negative_articles = self.articles.sample(batch_size*self.negative_samples)\n",
    "        labels = torch.ones(batch_size*(1+self.negative_samples))\n",
    "        labels[batch_size:] = -1\n",
    "        batch_customers = pd.concat([batch_customers for _ in range(self.negative_samples + 1)])\n",
    "        batch_articles = pd.concat([positive_articles, negative_articles])\n",
    "        return batch_customers, batch_articles, labels"
   ]
  },
  {
   "cell_type": "code",
   "execution_count": 98,
   "id": "9011b8d0",
   "metadata": {},
   "outputs": [],
   "source": [
    "tdl = TransactionDataLoader(customers, articles, train, negative_samples=5)"
   ]
  },
  {
   "cell_type": "markdown",
   "id": "d6f1917c",
   "metadata": {},
   "source": [
    "## 4. create models and train"
   ]
  },
  {
   "cell_type": "code",
   "execution_count": 214,
   "id": "ca528a57",
   "metadata": {},
   "outputs": [],
   "source": [
    "customer_tower = nn.Sequential(\n",
    "    customer_embedder,\n",
    "    nn.ReLU(),\n",
    "    nn.Linear(30, 128),\n",
    "    nn.Linear(128, 128)\n",
    ")\n",
    "\n",
    "article_tower = nn.Sequential(\n",
    "    article_embedder,\n",
    "    nn.ReLU(),\n",
    "    nn.Linear(110, 128),\n",
    "    nn.ReLU(),\n",
    "    nn.Linear(128, 128),\n",
    "    nn.ReLU(),\n",
    "    nn.Linear(128, 128)\n",
    ")\n",
    "\n",
    "# we want a higher learning rate, since we have a lot fewer datapoints\n",
    "optimizer_customers = torch.optim.Adam(params=customer_tower.parameters(), \n",
    "                                       lr = 0.05) \n",
    "optimizer_articles = torch.optim.Adam(params = article_tower.parameters(),\n",
    "                                      lr = 0.001)"
   ]
  },
  {
   "cell_type": "code",
   "execution_count": 222,
   "id": "f679c12f",
   "metadata": {},
   "outputs": [],
   "source": [
    "writer = SummaryWriter(log_dir='logs/two_tower_v8_cosine_loss')"
   ]
  },
  {
   "cell_type": "code",
   "execution_count": null,
   "id": "d0fecb47",
   "metadata": {},
   "outputs": [],
   "source": [
    "## Noise contrastive estimation (NCE) loss\n",
    "## https://sthalles.github.io/simple-self-supervised-learning/\n",
    "\n",
    "cosine_loss = nn.CosineEmbeddingLoss()\n",
    "for batch in range(20_000): # around 2 iterations over the train dataset\n",
    "    batch_cust, batch_articles, batch_labels = tdl.get_batch()\n",
    "    cust_emb = customer_tower(batch_cust)\n",
    "    art_emb = article_tower(batch_articles)\n",
    "    loss = cosine_loss(\n",
    "        art_emb,\n",
    "        cust_emb,\n",
    "        batch_labels\n",
    "    )\n",
    "    loss.backward()\n",
    "    optimizer_articles.step()\n",
    "    optimizer_customers.step()\n",
    "    optimizer_articles.zero_grad()\n",
    "    optimizer_customers.zero_grad()\n",
    "    writer.add_scalar(\"Loss/train\", loss.item(), batch)"
   ]
  },
  {
   "cell_type": "markdown",
   "id": "05a4c8b4",
   "metadata": {},
   "source": [
    "## 4. Evaluate"
   ]
  },
  {
   "cell_type": "code",
   "execution_count": 228,
   "id": "0d4c3fca",
   "metadata": {},
   "outputs": [],
   "source": [
    "all_article_embeddings = article_tower(articles)\n",
    "val_customers = customers[customers.customer_id.isin(val.customer_id.unique())]\n",
    "val_customers_embeddings = customer_tower(customers)\n",
    "\n",
    "## normalize by norm\n",
    "all_article_embeddings = torch.div(all_article_embeddings, \n",
    "                                   rearrange(torch.linalg.norm(all_article_embeddings, dim=1), 'w -> w 1'))\n",
    "val_customers_embeddings = torch.div(val_customers_embeddings, \n",
    "                                     rearrange(torch.linalg.norm(val_customers_embeddings, dim=1), 'w -> w 1'))"
   ]
  },
  {
   "cell_type": "code",
   "execution_count": 229,
   "id": "073c118a",
   "metadata": {},
   "outputs": [],
   "source": [
    "torch.save(all_article_embeddings, 'article_embeddings.pt')\n",
    "torch.save(val_customers_embeddings, 'val_customer_embeddings.pt')"
   ]
  },
  {
   "cell_type": "code",
   "execution_count": 4,
   "id": "48007320",
   "metadata": {},
   "outputs": [],
   "source": [
    "all_article_embeddings = torch.load('article_embeddings.pt')\n",
    "val_customers_embeddings = torch.load('val_customer_embeddings.pt')"
   ]
  },
  {
   "cell_type": "code",
   "execution_count": 254,
   "id": "c8d81122",
   "metadata": {},
   "outputs": [],
   "source": [
    "index = faiss.IndexFlatIP(128)"
   ]
  },
  {
   "cell_type": "code",
   "execution_count": 255,
   "id": "567ada29",
   "metadata": {},
   "outputs": [],
   "source": [
    "index.add(all_article_embeddings.detach().numpy())"
   ]
  },
  {
   "cell_type": "markdown",
   "id": "bac2ef93",
   "metadata": {},
   "source": [
    "### we'll first evaluate for the first 10 thousand customers in the val dataset:"
   ]
  },
  {
   "cell_type": "code",
   "execution_count": 257,
   "id": "9ba04567",
   "metadata": {},
   "outputs": [],
   "source": [
    "predicted_products = index.search(val_customers_embeddings[:10000].detach().numpy(), k=12)[1]"
   ]
  },
  {
   "cell_type": "code",
   "execution_count": 259,
   "id": "f60ff2f9",
   "metadata": {},
   "outputs": [],
   "source": [
    "val_10k_cust = val_customers[:10_000].customer_id.unique()\n",
    "val_10k = val[val.customer_id.isin(val_10k_cust)]\n",
    "articles['idx'] = range(len(articles))\n",
    "val_10k_art = pd.merge(val_10k, articles[['article_id', 'idx']], \n",
    "                       how='left', \n",
    "                       left_on='article_id', \n",
    "                       right_index=True)\n",
    "actual_bought_articles = [list(val_10k_art[val_10k_art.customer_id == cid].idx.unique()) for cid in val_10k_cust]"
   ]
  },
  {
   "cell_type": "markdown",
   "id": "efe04c30",
   "metadata": {},
   "source": [
    "### So, awful predictive power. "
   ]
  },
  {
   "cell_type": "code",
   "execution_count": 273,
   "id": "397ba8aa",
   "metadata": {},
   "outputs": [
    {
     "data": {
      "text/plain": [
       "0.0"
      ]
     },
     "execution_count": 273,
     "metadata": {},
     "output_type": "execute_result"
    }
   ],
   "source": [
    "mapk(actual_bought_articles, predicted_idx,k=12)"
   ]
  },
  {
   "cell_type": "markdown",
   "id": "b229f69b",
   "metadata": {},
   "source": [
    "### Are we at least predicting the right section? Yes. "
   ]
  },
  {
   "cell_type": "code",
   "execution_count": 302,
   "id": "f1ce4603",
   "metadata": {},
   "outputs": [
    {
     "data": {
      "text/plain": [
       "article_id\n",
       "589599033    Womens Swimwear, beachwear\n",
       "599580012    Womens Swimwear, beachwear\n",
       "599580017    Womens Swimwear, beachwear\n",
       "599580044    Womens Swimwear, beachwear\n",
       "688728023               Womens Lingerie\n",
       "730683040              Ladies H&M Sport\n",
       "730683054              Ladies H&M Sport\n",
       "759871004                Divided Basics\n",
       "776237008    Womens Swimwear, beachwear\n",
       "854679002    Womens Swimwear, beachwear\n",
       "854683002    Womens Swimwear, beachwear\n",
       "894140003    Womens Swimwear, beachwear\n",
       "Name: section_name, dtype: object"
      ]
     },
     "execution_count": 302,
     "metadata": {},
     "output_type": "execute_result"
    }
   ],
   "source": [
    "## top 12 products predicted from this sections:\n",
    "articles[articles.idx.isin(predicted_products[7])].section_name"
   ]
  },
  {
   "cell_type": "code",
   "execution_count": 301,
   "id": "5c747a2b",
   "metadata": {},
   "outputs": [
    {
     "data": {
      "text/plain": [
       "article_id\n",
       "158340001    Womens Nightwear, Socks & Tigh\n",
       "448509014                Divided Collection\n",
       "486639003                   Womens Lingerie\n",
       "799365027                      Ladies Denim\n",
       "867966009                      Ladies Denim\n",
       "879189005                    Kids Outerwear\n",
       "903762001                    Kids Outerwear\n",
       "907149001                    Divided Basics\n",
       "915529003        Womens Everyday Collection\n",
       "915529005        Womens Everyday Collection\n",
       "918171001    Womens Nightwear, Socks & Tigh\n",
       "932798002    Womens Nightwear, Socks & Tigh\n",
       "935892001    Womens Nightwear, Socks & Tigh\n",
       "936622001    Womens Nightwear, Socks & Tigh\n",
       "Name: section_name, dtype: object"
      ]
     },
     "execution_count": 301,
     "metadata": {},
     "output_type": "execute_result"
    }
   ],
   "source": [
    "## actually bought from the following sections:\n",
    "articles[articles.idx.isin(actual_bought_articles[7])].section_name"
   ]
  }
 ],
 "metadata": {
  "kernelspec": {
   "display_name": "Python 3 (ipykernel)",
   "language": "python",
   "name": "python3"
  },
  "language_info": {
   "codemirror_mode": {
    "name": "ipython",
    "version": 3
   },
   "file_extension": ".py",
   "mimetype": "text/x-python",
   "name": "python",
   "nbconvert_exporter": "python",
   "pygments_lexer": "ipython3",
   "version": "3.8.10"
  }
 },
 "nbformat": 4,
 "nbformat_minor": 5
}
