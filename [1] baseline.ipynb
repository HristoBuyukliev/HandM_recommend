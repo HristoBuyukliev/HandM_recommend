{
 "cells": [
  {
   "cell_type": "code",
   "execution_count": 1,
   "id": "421f8663",
   "metadata": {},
   "outputs": [
    {
     "name": "stderr",
     "output_type": "stream",
     "text": [
      "/usr/local/lib/python3.8/dist-packages/tqdm/auto.py:22: TqdmWarning: IProgress not found. Please update jupyter and ipywidgets. See https://ipywidgets.readthedocs.io/en/stable/user_install.html\n",
      "  from .autonotebook import tqdm as notebook_tqdm\n"
     ]
    }
   ],
   "source": [
    "import matplotlib.pyplot as plt\n",
    "import pandas as pd\n",
    "from tqdm.notebook import tqdm\n",
    "from typing import Tuple, Dict\n",
    "import numpy as np\n",
    "\n",
    "import torch\n",
    "import torch.nn as nn\n",
    "from torch.utils.data import Dataset, DataLoader\n",
    "from torch.utils.tensorboard import SummaryWriter\n",
    "from random import randint"
   ]
  },
  {
   "cell_type": "code",
   "execution_count": 2,
   "id": "3cf88fd6",
   "metadata": {},
   "outputs": [
    {
     "name": "stdout",
     "output_type": "stream",
     "text": [
      "articles.csv  customers.csv  sample_submission.csv  transactions_train.csv\r\n"
     ]
    }
   ],
   "source": [
    "%ls data"
   ]
  },
  {
   "cell_type": "code",
   "execution_count": 3,
   "id": "2609eeab",
   "metadata": {},
   "outputs": [
    {
     "data": {
      "text/html": [
       "<div>\n",
       "<style scoped>\n",
       "    .dataframe tbody tr th:only-of-type {\n",
       "        vertical-align: middle;\n",
       "    }\n",
       "\n",
       "    .dataframe tbody tr th {\n",
       "        vertical-align: top;\n",
       "    }\n",
       "\n",
       "    .dataframe thead th {\n",
       "        text-align: right;\n",
       "    }\n",
       "</style>\n",
       "<table border=\"1\" class=\"dataframe\">\n",
       "  <thead>\n",
       "    <tr style=\"text-align: right;\">\n",
       "      <th></th>\n",
       "      <th>t_dat</th>\n",
       "      <th>customer_id</th>\n",
       "      <th>article_id</th>\n",
       "      <th>price</th>\n",
       "      <th>sales_channel_id</th>\n",
       "    </tr>\n",
       "  </thead>\n",
       "  <tbody>\n",
       "    <tr>\n",
       "      <th>0</th>\n",
       "      <td>2018-09-20</td>\n",
       "      <td>000058a12d5b43e67d225668fa1f8d618c13dc232df0ca...</td>\n",
       "      <td>0663713001</td>\n",
       "      <td>0.050831</td>\n",
       "      <td>2</td>\n",
       "    </tr>\n",
       "    <tr>\n",
       "      <th>1</th>\n",
       "      <td>2018-09-20</td>\n",
       "      <td>000058a12d5b43e67d225668fa1f8d618c13dc232df0ca...</td>\n",
       "      <td>0541518023</td>\n",
       "      <td>0.030492</td>\n",
       "      <td>2</td>\n",
       "    </tr>\n",
       "    <tr>\n",
       "      <th>2</th>\n",
       "      <td>2018-09-20</td>\n",
       "      <td>00007d2de826758b65a93dd24ce629ed66842531df6699...</td>\n",
       "      <td>0505221004</td>\n",
       "      <td>0.015237</td>\n",
       "      <td>2</td>\n",
       "    </tr>\n",
       "    <tr>\n",
       "      <th>3</th>\n",
       "      <td>2018-09-20</td>\n",
       "      <td>00007d2de826758b65a93dd24ce629ed66842531df6699...</td>\n",
       "      <td>0685687003</td>\n",
       "      <td>0.016932</td>\n",
       "      <td>2</td>\n",
       "    </tr>\n",
       "    <tr>\n",
       "      <th>4</th>\n",
       "      <td>2018-09-20</td>\n",
       "      <td>00007d2de826758b65a93dd24ce629ed66842531df6699...</td>\n",
       "      <td>0685687004</td>\n",
       "      <td>0.016932</td>\n",
       "      <td>2</td>\n",
       "    </tr>\n",
       "  </tbody>\n",
       "</table>\n",
       "</div>"
      ],
      "text/plain": [
       "        t_dat                                        customer_id  article_id  \\\n",
       "0  2018-09-20  000058a12d5b43e67d225668fa1f8d618c13dc232df0ca...  0663713001   \n",
       "1  2018-09-20  000058a12d5b43e67d225668fa1f8d618c13dc232df0ca...  0541518023   \n",
       "2  2018-09-20  00007d2de826758b65a93dd24ce629ed66842531df6699...  0505221004   \n",
       "3  2018-09-20  00007d2de826758b65a93dd24ce629ed66842531df6699...  0685687003   \n",
       "4  2018-09-20  00007d2de826758b65a93dd24ce629ed66842531df6699...  0685687004   \n",
       "\n",
       "      price  sales_channel_id  \n",
       "0  0.050831                 2  \n",
       "1  0.030492                 2  \n",
       "2  0.015237                 2  \n",
       "3  0.016932                 2  \n",
       "4  0.016932                 2  "
      ]
     },
     "execution_count": 3,
     "metadata": {},
     "output_type": "execute_result"
    }
   ],
   "source": [
    "transactions = pd.read_csv('data/transactions_train.csv', dtype={'article_id': str})\n",
    "transactions.head()"
   ]
  },
  {
   "cell_type": "markdown",
   "id": "a2cb41c3",
   "metadata": {},
   "source": [
    "## 1. Embeddings of each article:"
   ]
  },
  {
   "cell_type": "code",
   "execution_count": 4,
   "id": "4acca45c",
   "metadata": {},
   "outputs": [
    {
     "data": {
      "text/html": [
       "<div>\n",
       "<style scoped>\n",
       "    .dataframe tbody tr th:only-of-type {\n",
       "        vertical-align: middle;\n",
       "    }\n",
       "\n",
       "    .dataframe tbody tr th {\n",
       "        vertical-align: top;\n",
       "    }\n",
       "\n",
       "    .dataframe thead th {\n",
       "        text-align: right;\n",
       "    }\n",
       "</style>\n",
       "<table border=\"1\" class=\"dataframe\">\n",
       "  <thead>\n",
       "    <tr style=\"text-align: right;\">\n",
       "      <th></th>\n",
       "      <th>article_id</th>\n",
       "      <th>product_code</th>\n",
       "      <th>prod_name</th>\n",
       "      <th>product_type_no</th>\n",
       "      <th>product_type_name</th>\n",
       "      <th>product_group_name</th>\n",
       "      <th>graphical_appearance_no</th>\n",
       "      <th>graphical_appearance_name</th>\n",
       "      <th>colour_group_code</th>\n",
       "      <th>colour_group_name</th>\n",
       "      <th>...</th>\n",
       "      <th>department_name</th>\n",
       "      <th>index_code</th>\n",
       "      <th>index_name</th>\n",
       "      <th>index_group_no</th>\n",
       "      <th>index_group_name</th>\n",
       "      <th>section_no</th>\n",
       "      <th>section_name</th>\n",
       "      <th>garment_group_no</th>\n",
       "      <th>garment_group_name</th>\n",
       "      <th>detail_desc</th>\n",
       "    </tr>\n",
       "    <tr>\n",
       "      <th>article_id</th>\n",
       "      <th></th>\n",
       "      <th></th>\n",
       "      <th></th>\n",
       "      <th></th>\n",
       "      <th></th>\n",
       "      <th></th>\n",
       "      <th></th>\n",
       "      <th></th>\n",
       "      <th></th>\n",
       "      <th></th>\n",
       "      <th></th>\n",
       "      <th></th>\n",
       "      <th></th>\n",
       "      <th></th>\n",
       "      <th></th>\n",
       "      <th></th>\n",
       "      <th></th>\n",
       "      <th></th>\n",
       "      <th></th>\n",
       "      <th></th>\n",
       "      <th></th>\n",
       "    </tr>\n",
       "  </thead>\n",
       "  <tbody>\n",
       "    <tr>\n",
       "      <th>108775015</th>\n",
       "      <td>108775015</td>\n",
       "      <td>108775</td>\n",
       "      <td>Strap top</td>\n",
       "      <td>253</td>\n",
       "      <td>Vest top</td>\n",
       "      <td>Garment Upper body</td>\n",
       "      <td>1010016</td>\n",
       "      <td>Solid</td>\n",
       "      <td>9</td>\n",
       "      <td>Black</td>\n",
       "      <td>...</td>\n",
       "      <td>Jersey Basic</td>\n",
       "      <td>A</td>\n",
       "      <td>Ladieswear</td>\n",
       "      <td>1</td>\n",
       "      <td>Ladieswear</td>\n",
       "      <td>16</td>\n",
       "      <td>Womens Everyday Basics</td>\n",
       "      <td>1002</td>\n",
       "      <td>Jersey Basic</td>\n",
       "      <td>Jersey top with narrow shoulder straps.</td>\n",
       "    </tr>\n",
       "    <tr>\n",
       "      <th>108775044</th>\n",
       "      <td>108775044</td>\n",
       "      <td>108775</td>\n",
       "      <td>Strap top</td>\n",
       "      <td>253</td>\n",
       "      <td>Vest top</td>\n",
       "      <td>Garment Upper body</td>\n",
       "      <td>1010016</td>\n",
       "      <td>Solid</td>\n",
       "      <td>10</td>\n",
       "      <td>White</td>\n",
       "      <td>...</td>\n",
       "      <td>Jersey Basic</td>\n",
       "      <td>A</td>\n",
       "      <td>Ladieswear</td>\n",
       "      <td>1</td>\n",
       "      <td>Ladieswear</td>\n",
       "      <td>16</td>\n",
       "      <td>Womens Everyday Basics</td>\n",
       "      <td>1002</td>\n",
       "      <td>Jersey Basic</td>\n",
       "      <td>Jersey top with narrow shoulder straps.</td>\n",
       "    </tr>\n",
       "    <tr>\n",
       "      <th>108775051</th>\n",
       "      <td>108775051</td>\n",
       "      <td>108775</td>\n",
       "      <td>Strap top (1)</td>\n",
       "      <td>253</td>\n",
       "      <td>Vest top</td>\n",
       "      <td>Garment Upper body</td>\n",
       "      <td>1010017</td>\n",
       "      <td>Stripe</td>\n",
       "      <td>11</td>\n",
       "      <td>Off White</td>\n",
       "      <td>...</td>\n",
       "      <td>Jersey Basic</td>\n",
       "      <td>A</td>\n",
       "      <td>Ladieswear</td>\n",
       "      <td>1</td>\n",
       "      <td>Ladieswear</td>\n",
       "      <td>16</td>\n",
       "      <td>Womens Everyday Basics</td>\n",
       "      <td>1002</td>\n",
       "      <td>Jersey Basic</td>\n",
       "      <td>Jersey top with narrow shoulder straps.</td>\n",
       "    </tr>\n",
       "    <tr>\n",
       "      <th>110065001</th>\n",
       "      <td>110065001</td>\n",
       "      <td>110065</td>\n",
       "      <td>OP T-shirt (Idro)</td>\n",
       "      <td>306</td>\n",
       "      <td>Bra</td>\n",
       "      <td>Underwear</td>\n",
       "      <td>1010016</td>\n",
       "      <td>Solid</td>\n",
       "      <td>9</td>\n",
       "      <td>Black</td>\n",
       "      <td>...</td>\n",
       "      <td>Clean Lingerie</td>\n",
       "      <td>B</td>\n",
       "      <td>Lingeries/Tights</td>\n",
       "      <td>1</td>\n",
       "      <td>Ladieswear</td>\n",
       "      <td>61</td>\n",
       "      <td>Womens Lingerie</td>\n",
       "      <td>1017</td>\n",
       "      <td>Under-, Nightwear</td>\n",
       "      <td>Microfibre T-shirt bra with underwired, moulde...</td>\n",
       "    </tr>\n",
       "    <tr>\n",
       "      <th>110065002</th>\n",
       "      <td>110065002</td>\n",
       "      <td>110065</td>\n",
       "      <td>OP T-shirt (Idro)</td>\n",
       "      <td>306</td>\n",
       "      <td>Bra</td>\n",
       "      <td>Underwear</td>\n",
       "      <td>1010016</td>\n",
       "      <td>Solid</td>\n",
       "      <td>10</td>\n",
       "      <td>White</td>\n",
       "      <td>...</td>\n",
       "      <td>Clean Lingerie</td>\n",
       "      <td>B</td>\n",
       "      <td>Lingeries/Tights</td>\n",
       "      <td>1</td>\n",
       "      <td>Ladieswear</td>\n",
       "      <td>61</td>\n",
       "      <td>Womens Lingerie</td>\n",
       "      <td>1017</td>\n",
       "      <td>Under-, Nightwear</td>\n",
       "      <td>Microfibre T-shirt bra with underwired, moulde...</td>\n",
       "    </tr>\n",
       "  </tbody>\n",
       "</table>\n",
       "<p>5 rows × 25 columns</p>\n",
       "</div>"
      ],
      "text/plain": [
       "            article_id  product_code          prod_name  product_type_no  \\\n",
       "article_id                                                                 \n",
       "108775015    108775015        108775          Strap top              253   \n",
       "108775044    108775044        108775          Strap top              253   \n",
       "108775051    108775051        108775      Strap top (1)              253   \n",
       "110065001    110065001        110065  OP T-shirt (Idro)              306   \n",
       "110065002    110065002        110065  OP T-shirt (Idro)              306   \n",
       "\n",
       "           product_type_name  product_group_name  graphical_appearance_no  \\\n",
       "article_id                                                                  \n",
       "108775015           Vest top  Garment Upper body                  1010016   \n",
       "108775044           Vest top  Garment Upper body                  1010016   \n",
       "108775051           Vest top  Garment Upper body                  1010017   \n",
       "110065001                Bra           Underwear                  1010016   \n",
       "110065002                Bra           Underwear                  1010016   \n",
       "\n",
       "           graphical_appearance_name  colour_group_code colour_group_name  \\\n",
       "article_id                                                                  \n",
       "108775015                      Solid                  9             Black   \n",
       "108775044                      Solid                 10             White   \n",
       "108775051                     Stripe                 11         Off White   \n",
       "110065001                      Solid                  9             Black   \n",
       "110065002                      Solid                 10             White   \n",
       "\n",
       "            ...  department_name index_code        index_name index_group_no  \\\n",
       "article_id  ...                                                                \n",
       "108775015   ...     Jersey Basic          A        Ladieswear              1   \n",
       "108775044   ...     Jersey Basic          A        Ladieswear              1   \n",
       "108775051   ...     Jersey Basic          A        Ladieswear              1   \n",
       "110065001   ...   Clean Lingerie          B  Lingeries/Tights              1   \n",
       "110065002   ...   Clean Lingerie          B  Lingeries/Tights              1   \n",
       "\n",
       "            index_group_name section_no            section_name  \\\n",
       "article_id                                                        \n",
       "108775015         Ladieswear         16  Womens Everyday Basics   \n",
       "108775044         Ladieswear         16  Womens Everyday Basics   \n",
       "108775051         Ladieswear         16  Womens Everyday Basics   \n",
       "110065001         Ladieswear         61         Womens Lingerie   \n",
       "110065002         Ladieswear         61         Womens Lingerie   \n",
       "\n",
       "           garment_group_no  garment_group_name  \\\n",
       "article_id                                        \n",
       "108775015              1002        Jersey Basic   \n",
       "108775044              1002        Jersey Basic   \n",
       "108775051              1002        Jersey Basic   \n",
       "110065001              1017   Under-, Nightwear   \n",
       "110065002              1017   Under-, Nightwear   \n",
       "\n",
       "                                                  detail_desc  \n",
       "article_id                                                     \n",
       "108775015             Jersey top with narrow shoulder straps.  \n",
       "108775044             Jersey top with narrow shoulder straps.  \n",
       "108775051             Jersey top with narrow shoulder straps.  \n",
       "110065001   Microfibre T-shirt bra with underwired, moulde...  \n",
       "110065002   Microfibre T-shirt bra with underwired, moulde...  \n",
       "\n",
       "[5 rows x 25 columns]"
      ]
     },
     "execution_count": 4,
     "metadata": {},
     "output_type": "execute_result"
    }
   ],
   "source": [
    "articles = pd.read_csv('data/articles.csv')\n",
    "articles.set_index('article_id', inplace=True, drop=False)\n",
    "articles.head()"
   ]
  },
  {
   "cell_type": "code",
   "execution_count": 5,
   "id": "9da18156",
   "metadata": {},
   "outputs": [],
   "source": [
    "def reduce_unique_values(dataframe: pd.DataFrame, col_max_counts: Dict) -> Dict:\n",
    "    '''\n",
    "    Takes as input a dataframe, with some columns we'd like embeddings of,\n",
    "    and maximum unique values per column.\n",
    "    \n",
    "    Changes the dataframe inplace, so that only the top n values for each column remain,\n",
    "    and returns the mappings string -> idx for each column. \n",
    "    '''\n",
    "    \n",
    "    mappings = {}\n",
    "    for col in col_max_counts:\n",
    "        top_n = dataframe[col].value_counts().head(col_max_counts[col]-1).index.to_list() # minus one, to leave room for \"other\"\n",
    "        # change all other values to \"other\"\n",
    "        if dataframe[col].nunique() > col_max_counts[col]:\n",
    "            dataframe.loc[~dataframe[col].isin(top_n), col] = 'other'\n",
    "            top_n.append('other')\n",
    "        mappings[col] = {top_n_attr: idx for (top_n_attr, idx) in zip(top_n, range(len(top_n)))}\n",
    "    return mappings"
   ]
  },
  {
   "cell_type": "code",
   "execution_count": 6,
   "id": "3e04149e",
   "metadata": {},
   "outputs": [
    {
     "data": {
      "text/plain": [
       "{'Dark': 0,\n",
       " 'Dusty Light': 1,\n",
       " 'Light': 2,\n",
       " 'Medium Dusty': 3,\n",
       " 'Bright': 4,\n",
       " 'Medium': 5,\n",
       " 'Undefined': 6,\n",
       " 'Unknown': 7}"
      ]
     },
     "execution_count": 6,
     "metadata": {},
     "output_type": "execute_result"
    }
   ],
   "source": [
    "# I want to create embeddings of all these; \n",
    "# but first I need to select only those top N values, which have a meaningful number of occurences\n",
    "\n",
    "select_top_n = {\n",
    "    'prod_name': 500,\n",
    "    'product_type_name': 500,\n",
    "    'product_group_name': 100,    \n",
    "    'graphical_appearance_name': 100,\n",
    "    'colour_group_name': 100, \n",
    "    'perceived_colour_value_name': 100,\n",
    "    'perceived_colour_master_name': 100,\n",
    "    'department_name': 230,\n",
    "    'index_name': 100,\n",
    "    'garment_group_name': 100,\n",
    "    'section_name': 100,\n",
    "    'garment_group_name': 100\n",
    "}\n",
    "\n",
    "mappings_articles = reduce_unique_values(articles, select_top_n)\n",
    "mappings_articles['perceived_colour_value_name']"
   ]
  },
  {
   "cell_type": "code",
   "execution_count": 7,
   "id": "db3b6190",
   "metadata": {},
   "outputs": [],
   "source": [
    "class GroupEmbedding(nn.Module):\n",
    "    '''\n",
    "    Given something with a lot of thing we want embeddings of - \n",
    "    for example, articles of clothing, or customers,\n",
    "    and mappings string->index, creates torch.nn.Embedding layers,\n",
    "    and concatenates their outputs\n",
    "    '''\n",
    "    \n",
    "    def __init__(self, mappings: Dict):\n",
    "        super().__init__()\n",
    "        self.mappings = mappings\n",
    "        self.embeddings = {}\n",
    "        for col in mappings:\n",
    "            embedding_dim = 10\n",
    "            self.embeddings[col] = nn.Embedding(num_embeddings = len(mappings[col]), embedding_dim=10)      \n",
    "        \n",
    "    def forward(self, dataframe: pd.DataFrame) -> torch.Tensor:\n",
    "        embedded_columns = []\n",
    "        for col in self.mappings:\n",
    "            strings = dataframe[col]\n",
    "            indexes = torch.tensor([self.mappings[col][item] for item in strings], dtype=torch.long)\n",
    "            embedded_columns.append(self.embeddings[col](indexes))\n",
    "            \n",
    "        return torch.cat(embedded_columns, axis=1)"
   ]
  },
  {
   "cell_type": "code",
   "execution_count": 8,
   "id": "4bad4cf1",
   "metadata": {},
   "outputs": [
    {
     "data": {
      "text/plain": [
       "tensor([[-1.1557, -1.0099,  0.0377,  ...,  0.3452, -1.5888,  1.1715],\n",
       "        [-1.1557, -1.0099,  0.0377,  ...,  0.5352, -1.3681,  1.6258],\n",
       "        [-1.1557, -1.0099,  0.0377,  ..., -0.5423, -1.2252,  0.3960],\n",
       "        ...,\n",
       "        [-1.1557, -1.0099,  0.0377,  ...,  0.5352, -1.3681,  1.6258],\n",
       "        [-1.1557, -1.0099,  0.0377,  ...,  0.3452, -1.5888,  1.1715],\n",
       "        [ 0.2433, -0.1390, -0.2104,  ..., -0.2729,  1.3842,  0.3566]],\n",
       "       grad_fn=<CatBackward0>)"
      ]
     },
     "execution_count": 8,
     "metadata": {},
     "output_type": "execute_result"
    }
   ],
   "source": [
    "article_embedder = GroupEmbedding(mappings_articles)\n",
    "article_embedder(articles.sample(100))"
   ]
  },
  {
   "cell_type": "markdown",
   "id": "96afc149",
   "metadata": {},
   "source": [
    "## 2. Embeddings of each customer"
   ]
  },
  {
   "cell_type": "code",
   "execution_count": 9,
   "id": "88c90845",
   "metadata": {},
   "outputs": [],
   "source": [
    "customers = pd.read_csv('data/customers.csv')\n",
    "customers.age.fillna(32, inplace=True) # median age\n",
    "customers.set_index('customer_id', inplace=True, drop=False)"
   ]
  },
  {
   "cell_type": "code",
   "execution_count": 10,
   "id": "f9d0ea2e",
   "metadata": {},
   "outputs": [],
   "source": [
    "select_top_n = {\n",
    "    'customer_id': 100_000_000, # separate embedding for each customer. \n",
    "    'age': 100, # all ages are embedded, unless we have really old people. \n",
    "    'postal_code': 50_000 # 5 or 6 users for the smallest codes remaining. \n",
    "}\n",
    "\n",
    "mappings_customers = reduce_unique_values(customers, select_top_n)"
   ]
  },
  {
   "cell_type": "code",
   "execution_count": 11,
   "id": "957c041f",
   "metadata": {},
   "outputs": [
    {
     "data": {
      "text/plain": [
       "torch.Size([10000, 30])"
      ]
     },
     "execution_count": 11,
     "metadata": {},
     "output_type": "execute_result"
    }
   ],
   "source": [
    "customer_embedder = GroupEmbedding(mappings_customers)\n",
    "customer_embedder(customers.sample(10_000)).shape"
   ]
  },
  {
   "cell_type": "markdown",
   "id": "9c503f19",
   "metadata": {},
   "source": [
    "## 3. Data Loader"
   ]
  },
  {
   "cell_type": "code",
   "execution_count": 12,
   "id": "9e481861",
   "metadata": {},
   "outputs": [],
   "source": [
    "transactions = pd.read_csv('data/transactions_train.csv')\n",
    "\n",
    "## select a period of 2 months for train, and a week for val\n",
    "train = transactions[transactions.t_dat.between('2020-06-15', '2020-09-14')]\n",
    "val = transactions[transactions.t_dat.between('2020-09-15', '2020-09-22')]"
   ]
  },
  {
   "cell_type": "code",
   "execution_count": 13,
   "id": "56587dfe",
   "metadata": {},
   "outputs": [],
   "source": [
    "class TransactionDataLoader():\n",
    "    def __init__(self, \n",
    "                 customers: pd.DataFrame, \n",
    "                 articles: pd.DataFrame, \n",
    "                 txns: pd.DataFrame, \n",
    "                 negative_samples: int = 10):\n",
    "        self.customers = customers\n",
    "        self.articles = articles\n",
    "        self.txns = txns\n",
    "#         self.current_idx = 0 \n",
    "        self.negative_samples = negative_samples # per one positive sample\n",
    "    \n",
    "    def __len__(self):\n",
    "        return len(self.txns)\n",
    "    \n",
    "    def get_batch(self, batch_size: int = 1000):\n",
    "        batch_index_start = randint(0, len(self) - batch_size)\n",
    "        # for speed purposes, do not sample randomly, but give data iteratively\n",
    "        batch_txns = self.txns.iloc[batch_index_start:batch_index_start + batch_size]\n",
    "        batch_customers = self.customers.loc[batch_txns.customer_id]\n",
    "        positive_articles = self.articles.loc[batch_txns.article_id]\n",
    "\n",
    "        # now, negative sampling:\n",
    "        negative_articles = self.articles.sample(batch_size*self.negative_samples)\n",
    "        labels = torch.ones(batch_size*(1+self.negative_samples))\n",
    "        labels[batch_size:] = -1\n",
    "        batch_customers = pd.concat([batch_customers for _ in range(self.negative_samples + 1)])\n",
    "        batch_articles = pd.concat([positive_articles, negative_articles])\n",
    "        return batch_customers, batch_articles, labels"
   ]
  },
  {
   "cell_type": "code",
   "execution_count": 14,
   "id": "9011b8d0",
   "metadata": {},
   "outputs": [],
   "source": [
    "tdl = TransactionDataLoader(customers, articles, train, negative_samples=5)"
   ]
  },
  {
   "cell_type": "markdown",
   "id": "d6f1917c",
   "metadata": {},
   "source": [
    "## 4. create models and train"
   ]
  },
  {
   "cell_type": "code",
   "execution_count": 104,
   "id": "ca528a57",
   "metadata": {},
   "outputs": [],
   "source": [
    "customer_tower = nn.Sequential(\n",
    "    customer_embedder,\n",
    "    nn.ReLU(),\n",
    "    nn.Linear(30, 128),\n",
    "    nn.ReLU(),\n",
    "    nn.Linear(128, 128),\n",
    "    nn.ReLU(),\n",
    "    nn.Linear(128, 128)\n",
    ")\n",
    "\n",
    "article_tower = nn.Sequential(\n",
    "    article_embedder,\n",
    "    nn.ReLU(),\n",
    "    nn.Linear(110, 128),\n",
    "    nn.ReLU(),\n",
    "    nn.Linear(128, 128),\n",
    "    nn.ReLU(),\n",
    "    nn.Linear(128, 128)\n",
    ")\n",
    "\n",
    "# we want a higher learning rate, since we have a lot fewer datapoints\n",
    "optimizer_customers = torch.optim.Adam(params=customer_tower.parameters(), \n",
    "                                       lr = 0.01) \n",
    "optimizer_articles = torch.optim.Adam(params = article_tower.parameters(),\n",
    "                                      lr = 0.001)"
   ]
  },
  {
   "cell_type": "code",
   "execution_count": 106,
   "id": "f679c12f",
   "metadata": {},
   "outputs": [],
   "source": [
    "writer = SummaryWriter(log_dir='logs/two_tower_v5_SimCLR')"
   ]
  },
  {
   "cell_type": "code",
   "execution_count": 107,
   "id": "5caec647",
   "metadata": {},
   "outputs": [],
   "source": [
    "from tqdm import tqdm_notebook\n",
    "from einops import rearrange"
   ]
  },
  {
   "cell_type": "code",
   "execution_count": 108,
   "id": "d0fecb47",
   "metadata": {},
   "outputs": [],
   "source": [
    "## Noise contrastive estimation (NCE) loss\n",
    "## https://sthalles.github.io/simple-self-supervised-learning/\n",
    "\n",
    "for batch in range(10_000): # around 2 iterations over the train dataset\n",
    "\n",
    "    batch_cust, batch_articles, batch_labels = tdl.get_batch()\n",
    "    cust_emb = customer_tower(batch_cust)\n",
    "    art_emb = article_tower(batch_articles)\n",
    "    distances = torch.linalg.norm(cust_emb - art_emb, dim=1)\n",
    "    distances = rearrange(distances, '(posneg batch) -> batch posneg', batch=1000)\n",
    "    softmaxed = torch.nn.functional.softmax(distances, dim=1)\n",
    "    NLL = -torch.log(softmaxed[:,0]).mean()\n",
    "    NLL.backward()\n",
    "#     cosine_loss = nn.CosineEmbeddingLoss()\n",
    "#     loss = cosine_loss(\n",
    "#         article_tower(batch_articles),\n",
    "#         customer_tower(batch_cust),\n",
    "#         batch_labels\n",
    "#     )\n",
    "#     loss.backward()\n",
    "    optimizer_articles.step()\n",
    "    optimizer_customers.step()\n",
    "    optimizer_articles.zero_grad()\n",
    "    optimizer_customers.zero_grad()\n",
    "    writer.add_scalar(\"Loss/train\", NLL.item(), batch)"
   ]
  },
  {
   "cell_type": "markdown",
   "id": "05a4c8b4",
   "metadata": {},
   "source": [
    "## 4. Candidate generation"
   ]
  },
  {
   "cell_type": "code",
   "execution_count": 109,
   "id": "62f7b246",
   "metadata": {},
   "outputs": [],
   "source": [
    "all_article_embeddings = article_tower(articles)"
   ]
  },
  {
   "cell_type": "code",
   "execution_count": 110,
   "id": "0d4c3fca",
   "metadata": {},
   "outputs": [],
   "source": [
    "val_customers = customers[customers.customer_id.isin(val.customer_id.unique())]\n",
    "val_customers_embeddings = customer_tower(customers)"
   ]
  },
  {
   "cell_type": "code",
   "execution_count": 111,
   "id": "8723db0e",
   "metadata": {},
   "outputs": [
    {
     "data": {
      "text/plain": [
       "(torch.Size([105542, 128]), torch.Size([1371980, 128]))"
      ]
     },
     "execution_count": 111,
     "metadata": {},
     "output_type": "execute_result"
    }
   ],
   "source": [
    "all_article_embeddings.shape, val_customers_embeddings.shape"
   ]
  },
  {
   "cell_type": "code",
   "execution_count": 112,
   "id": "6e76ae8a",
   "metadata": {},
   "outputs": [
    {
     "ename": "ModuleNotFoundError",
     "evalue": "No module named 'faiss'",
     "output_type": "error",
     "traceback": [
      "\u001b[0;31m---------------------------------------------------------------------------\u001b[0m",
      "\u001b[0;31mModuleNotFoundError\u001b[0m                       Traceback (most recent call last)",
      "Cell \u001b[0;32mIn[112], line 1\u001b[0m\n\u001b[0;32m----> 1\u001b[0m \u001b[38;5;28;01mimport\u001b[39;00m \u001b[38;5;21;01mfaiss\u001b[39;00m\n",
      "\u001b[0;31mModuleNotFoundError\u001b[0m: No module named 'faiss'"
     ]
    }
   ],
   "source": [
    "import faiss"
   ]
  },
  {
   "cell_type": "code",
   "execution_count": 31,
   "id": "c8d81122",
   "metadata": {},
   "outputs": [],
   "source": [
    "index = faiss.IndexFlatL2(128)"
   ]
  },
  {
   "cell_type": "code",
   "execution_count": 33,
   "id": "567ada29",
   "metadata": {},
   "outputs": [],
   "source": [
    "index.add(all_article_embeddings.detach().numpy())"
   ]
  },
  {
   "cell_type": "code",
   "execution_count": 34,
   "id": "48efad57",
   "metadata": {},
   "outputs": [
    {
     "data": {
      "text/plain": [
       "105542"
      ]
     },
     "execution_count": 34,
     "metadata": {},
     "output_type": "execute_result"
    }
   ],
   "source": [
    "index.ntotal"
   ]
  },
  {
   "cell_type": "code",
   "execution_count": 39,
   "id": "e260d005",
   "metadata": {},
   "outputs": [
    {
     "data": {
      "text/plain": [
       "torch.Size([1371980, 128])"
      ]
     },
     "execution_count": 39,
     "metadata": {},
     "output_type": "execute_result"
    }
   ],
   "source": [
    "val_customers_embeddings.shape"
   ]
  },
  {
   "cell_type": "code",
   "execution_count": null,
   "id": "9167d3ca",
   "metadata": {},
   "outputs": [],
   "source": [
    "%%timeit\n",
    "predicted_products = index.search(val_customers_embeddings[:100000].detach().numpy(), k=12)"
   ]
  },
  {
   "cell_type": "markdown",
   "id": "7d943c23",
   "metadata": {},
   "source": [
    "## 5. Evaluate predictions"
   ]
  },
  {
   "cell_type": "code",
   "execution_count": 84,
   "id": "9fd51f19",
   "metadata": {},
   "outputs": [],
   "source": [
    "from metrics import mapk"
   ]
  }
 ],
 "metadata": {
  "kernelspec": {
   "display_name": "Python 3 (ipykernel)",
   "language": "python",
   "name": "python3"
  },
  "language_info": {
   "codemirror_mode": {
    "name": "ipython",
    "version": 3
   },
   "file_extension": ".py",
   "mimetype": "text/x-python",
   "name": "python",
   "nbconvert_exporter": "python",
   "pygments_lexer": "ipython3",
   "version": "3.8.10"
  }
 },
 "nbformat": 4,
 "nbformat_minor": 5
}
